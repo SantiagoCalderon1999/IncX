{
 "cells": [
  {
   "cell_type": "code",
   "execution_count": 9,
   "metadata": {},
   "outputs": [
    {
     "name": "stdout",
     "output_type": "stream",
     "text": [
      "Processing image: datasets/split-1/00000001.jpg\n"
     ]
    },
    {
     "name": "stderr",
     "output_type": "stream",
     "text": [
      "100%|██████████| 5000/5000 [07:52<00:00, 10.58it/s]\n",
      "100%|██████████| 4999/4999 [02:47<00:00, 29.86it/s] \n"
     ]
    }
   ],
   "source": [
    "from incremental_explainer.utils.saliency_maps import compute_saliency_maps\n",
    "import pandas as pd\n",
    "import cv2\n",
    "from ultralytics import YOLO\n",
    "\n",
    "image_location = f\"datasets/split-1/00000001.jpg\"\n",
    "print(f\"Processing image: {image_location}\")\n",
    "model = YOLO(\"yolov8n.pt\")\n",
    "img = cv2.imread(image_location)\n",
    "img = cv2.cvtColor(img, cv2.COLOR_BGR2RGB)\n",
    "results = model(img, verbose=False)\n",
    "saliency = compute_saliency_maps(results, image_location, model, nummasks=5000)"
   ]
  },
  {
   "cell_type": "code",
   "execution_count": 10,
   "metadata": {},
   "outputs": [
    {
     "data": {
      "text/plain": [
       "(720, 1280, 3)"
      ]
     },
     "execution_count": 10,
     "metadata": {},
     "output_type": "execute_result"
    }
   ],
   "source": [
    "import numpy as np\n",
    "\n",
    "saliency_map = np.array(saliency[0]['detection']).transpose(1, 2, 0)\n",
    "saliency_map.shape"
   ]
  },
  {
   "cell_type": "code",
   "execution_count": 11,
   "metadata": {},
   "outputs": [
    {
     "data": {
      "text/plain": [
       "0.9083503094040128"
      ]
     },
     "execution_count": 11,
     "metadata": {},
     "output_type": "execute_result"
    }
   ],
   "source": [
    "from incremental_explainer.utils.common import calculate_intersection_over_union\n",
    "\n",
    "des_class = 2\n",
    "des_bounding_box = [239.66, 309.78, 547.53, 469.6]\n",
    "\n",
    "arrays = list(zip(np.array(results[0].boxes.cls), np.array(results[0].boxes.conf), np.array(results[0].boxes.xyxy)))\n",
    "\n",
    "arrays = [el for el in arrays if el[0] == des_class]\n",
    "\n",
    "\n",
    "max([el[1]* calculate_intersection_over_union(des_bounding_box, el[2]) for el in arrays])\n"
   ]
  },
  {
   "cell_type": "code",
   "execution_count": 12,
   "metadata": {},
   "outputs": [
    {
     "data": {
      "text/plain": [
       "[(2.0,\n",
       "  0.90839535,\n",
       "  array([     239.66,      309.78,      547.53,       469.6], dtype=float32)),\n",
       " (2.0,\n",
       "  0.8367078,\n",
       "  array([     1106.1,      269.28,      1279.5,      437.56], dtype=float32)),\n",
       " (2.0,\n",
       "  0.7652841,\n",
       "  array([    0.36029,      295.38,      237.43,      614.21], dtype=float32)),\n",
       " (2.0,\n",
       "  0.48621297,\n",
       "  array([     910.43,      309.08,      1039.3,      347.77], dtype=float32)),\n",
       " (2.0,\n",
       "  0.41226992,\n",
       "  array([     250.89,      400.89,      1270.7,      708.22], dtype=float32))]"
      ]
     },
     "execution_count": 12,
     "metadata": {},
     "output_type": "execute_result"
    }
   ],
   "source": [
    "arrays"
   ]
  },
  {
   "cell_type": "code",
   "execution_count": 13,
   "metadata": {},
   "outputs": [
    {
     "data": {
      "text/plain": [
       "True"
      ]
     },
     "execution_count": 13,
     "metadata": {},
     "output_type": "execute_result"
    }
   ],
   "source": [
    "2==2.0"
   ]
  },
  {
   "cell_type": "code",
   "execution_count": 14,
   "metadata": {},
   "outputs": [
    {
     "data": {
      "text/plain": [
       "0.01927659130089878"
      ]
     },
     "execution_count": 14,
     "metadata": {},
     "output_type": "execute_result"
    },
    {
     "data": {
      "image/png": "[encoded data removed]",
      "text/plain": [
       "<Figure size 640x480 with 1 Axes>"
      ]
     },
     "metadata": {},
     "output_type": "display_data"
    }
   ],
   "source": [
    "from incremental_explainer.metrics.deletion import compute_deletion\n",
    "\n",
    "\n",
    "index = 0\n",
    "\n",
    "compute_deletion(model, np.array(saliency[0]['detection']).transpose(1, 2, 0), img, int(results[0].boxes.cls[index]), np.array(results[0].boxes.xyxy[index]), divisions = 1000, verbose = True)"
   ]
  },
  {
   "cell_type": "code",
   "execution_count": 15,
   "metadata": {},
   "outputs": [
    {
     "data": {
      "text/plain": [
       "0.7432662846856773"
      ]
     },
     "execution_count": 15,
     "metadata": {},
     "output_type": "execute_result"
    }
   ],
   "source": [
    "from incremental_explainer.metrics.insertion import compute_insertion\n",
    "\n",
    "index = 0\n",
    "\n",
    "compute_insertion(model, np.array(saliency[0]['detection']).transpose(1, 2, 0), img, int(results[0].boxes.cls[index]), np.array(results[0].boxes.xyxy[index]), divisions = 1000)"
   ]
  }
 ],
 "metadata": {
  "kernelspec": {
   "display_name": "Python 3",
   "language": "python",
   "name": "python3"
  },
  "language_info": {
   "codemirror_mode": {
    "name": "ipython",
    "version": 3
   },
   "file_extension": ".py",
   "mimetype": "text/x-python",
   "name": "python",
   "nbconvert_exporter": "python",
   "pygments_lexer": "ipython3",
   "version": "3.11.9"
  }
 },
 "nbformat": 4,
 "nbformat_minor": 2
}
