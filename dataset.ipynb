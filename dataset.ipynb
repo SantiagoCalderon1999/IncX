{
 "cells": [
  {
   "cell_type": "code",
   "execution_count": 12,
   "metadata": {},
   "outputs": [
    {
     "name": "stdout",
     "output_type": "stream",
     "text": [
      "KITTI: 2011 images\n",
      "LASOT: 2000 images\n",
      "MOT20: 2000 images\n",
      "---------------------------------\n",
      "Total 6011 images\n"
     ]
    }
   ],
   "source": [
    "from datasets.dataset import Dataset\n",
    "\n",
    "import os\n",
    "\n",
    "images_paths = []\n",
    "\n",
    "\n",
    "for dataset in Dataset:\n",
    "    partial_images_paths = []\n",
    "    dataset_path = \"./datasets/{}\".format(dataset.name)\n",
    "    for path in os.listdir(dataset_path):\n",
    "        images = os.listdir(os.path.join(dataset_path, path))\n",
    "        partial_images_paths += [os.path.join(dataset_path, path, image) for image in images]\n",
    "    print(f\"{dataset.name}: {len(partial_images_paths)} images\")\n",
    "    images_paths += partial_images_paths\n",
    "    \n",
    "print('---------------------------------')\n",
    "print(f\"Total {len(images_paths)} images\")\n",
    "    "
   ]
  },
  {
   "cell_type": "code",
   "execution_count": 3,
   "metadata": {},
   "outputs": [
    {
     "data": {
      "text/plain": [
       "14894"
      ]
     },
     "execution_count": 3,
     "metadata": {},
     "output_type": "execute_result"
    }
   ],
   "source": [
    "len(images_paths)"
   ]
  }
 ],
 "metadata": {
  "kernelspec": {
   "display_name": "Python 3",
   "language": "python",
   "name": "python3"
  },
  "language_info": {
   "codemirror_mode": {
    "name": "ipython",
    "version": 3
   },
   "file_extension": ".py",
   "mimetype": "text/x-python",
   "name": "python",
   "nbconvert_exporter": "python",
   "pygments_lexer": "ipython3",
   "version": "3.11.9"
  }
 },
 "nbformat": 4,
 "nbformat_minor": 2
}
