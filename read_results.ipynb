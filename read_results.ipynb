{
 "cells": [
  {
   "cell_type": "code",
   "execution_count": 2,
   "metadata": {},
   "outputs": [
    {
     "data": {
      "text/plain": [
       "[{'car_number': 10,\n",
       "  'start_frame': 1468,\n",
       "  'end_frame': 1473,\n",
       "  'insertion_move': [0.5449576163674161,\n",
       "   0.4248580939361677,\n",
       "   0.5803250870827146,\n",
       "   0.606543849396112,\n",
       "   0.3903377996578153],\n",
       "  'insertion_exp': [0.5187800498627865,\n",
       "   0.401007430784553,\n",
       "   0.5581835692764757,\n",
       "   0.6281596891216275,\n",
       "   0.3644468752488481]},\n",
       " {'car_number': 10,\n",
       "  'start_frame': 1468,\n",
       "  'end_frame': 5,\n",
       "  'insertion_move': [0.5306712743259656,\n",
       "   0.4205980637562526,\n",
       "   0.5594947584037759,\n",
       "   0.6501110287760902,\n",
       "   0.49866548514920095],\n",
       "  'insertion_exp': [0.5030266194798363,\n",
       "   0.38374653685027926,\n",
       "   0.5543658219605115,\n",
       "   0.6247337961481794,\n",
       "   0.3815750373508328]}]"
      ]
     },
     "execution_count": 2,
     "metadata": {},
     "output_type": "execute_result"
    }
   ],
   "source": [
    "import pickle\n",
    "\n",
    "with open('results.pkl', 'rb') as f:\n",
    "    data = pickle.load(f)\n",
    "\n",
    "data"
   ]
  }
 ],
 "metadata": {
  "kernelspec": {
   "display_name": "Python 3",
   "language": "python",
   "name": "python3"
  },
  "language_info": {
   "codemirror_mode": {
    "name": "ipython",
    "version": 3
   },
   "file_extension": ".py",
   "mimetype": "text/x-python",
   "name": "python",
   "nbconvert_exporter": "python",
   "pygments_lexer": "ipython3",
   "version": "3.11.9"
  }
 },
 "nbformat": 4,
 "nbformat_minor": 2
}
